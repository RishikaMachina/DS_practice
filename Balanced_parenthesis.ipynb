{
 "cells": [
  {
   "cell_type": "code",
   "execution_count": 1,
   "metadata": {},
   "outputs": [],
   "source": [
    "class deque(object):\n",
    "    \n",
    "    def __init__(self):\n",
    "        self.items = []\n",
    "        \n",
    "    def isEmpty(self):\n",
    "        return self.items == []\n",
    "    \n",
    "    def size(self):\n",
    "        return len(self.items)\n",
    "    \n",
    "    def addFront(self,x):\n",
    "        return self.items.insert(0,x)\n",
    "    \n",
    "    def addRear(self,x):\n",
    "        return self.items.append(x)\n",
    "    \n",
    "    def removeFront(self):\n",
    "        return self.items.pop(0)\n",
    "    \n",
    "    def removeRear(self):\n",
    "        return self.items.pop()\n",
    "        \n",
    "    def size(self):\n",
    "        return len(self.items)\n",
    "    \n",
    "    def frontPeek(self):\n",
    "        return self.items[0]\n",
    "    \n",
    "    def rearPeek(self):\n",
    "        return self.items[-1]"
   ]
  },
  {
   "cell_type": "code",
   "execution_count": 2,
   "metadata": {},
   "outputs": [
    {
     "data": {
      "text/plain": [
       "4"
      ]
     },
     "execution_count": 2,
     "metadata": {},
     "output_type": "execute_result"
    }
   ],
   "source": [
    "a=deque()\n",
    "a.addRear(1)\n",
    "a.addRear(2)\n",
    "a.addRear(3)\n",
    "a.addRear(4)\n",
    "a.size()"
   ]
  },
  {
   "cell_type": "code",
   "execution_count": 3,
   "metadata": {},
   "outputs": [
    {
     "name": "stdout",
     "output_type": "stream",
     "text": [
      "1\n",
      "4\n"
     ]
    }
   ],
   "source": [
    "# if (a.removeFront() == a.removeRear()):\n",
    "#     print(\"Yes\")\n",
    "# else:\n",
    "#     print(\"NO\")\n",
    "# print(a.size())\n",
    "print(a.frontPeek())\n",
    "print(a.rearPeek())"
   ]
  },
  {
   "cell_type": "code",
   "execution_count": 4,
   "metadata": {},
   "outputs": [],
   "source": [
    "def balance_check(s):\n",
    "    d = deque()\n",
    "    length = len(s)\n",
    "    if (length % 2 != 0):\n",
    "        return False                                \n",
    "    else:\n",
    "        for i in range(0,len(s)):             \n",
    "            d.addRear(s[i])                               # saving input string as a deque\n",
    "        \n",
    "        f = 0\n",
    "        while (d.size() >=2):\n",
    "            if (d.frontPeek() == '(' and d.rearPeek() == ')'):\n",
    "                f += 2\n",
    "                \n",
    "            elif (d.frontPeek() == '[' and d.rearPeek() == ']'):\n",
    "                f += 2\n",
    "            \n",
    "            elif (d.frontPeek() == '{' and d.rearPeek() == '}'):\n",
    "                f += 2\n",
    "             \n",
    "            else:\n",
    "                break\n",
    "            \n",
    "            d.removeRear()\n",
    "            d.removeFront() \n",
    "            \n",
    "            \n",
    "        if (f == length):\n",
    "            return True\n",
    "        else:\n",
    "            return False"
   ]
  },
  {
   "cell_type": "code",
   "execution_count": 5,
   "metadata": {},
   "outputs": [
    {
     "data": {
      "text/plain": [
       "True"
      ]
     },
     "execution_count": 5,
     "metadata": {},
     "output_type": "execute_result"
    }
   ],
   "source": [
    "balance_check('([])')"
   ]
  },
  {
   "cell_type": "code",
   "execution_count": 6,
   "metadata": {},
   "outputs": [
    {
     "data": {
      "text/plain": [
       "False"
      ]
     },
     "execution_count": 6,
     "metadata": {},
     "output_type": "execute_result"
    }
   ],
   "source": [
    "balance_check('([)]')"
   ]
  },
  {
   "cell_type": "code",
   "execution_count": null,
   "metadata": {},
   "outputs": [],
   "source": []
  }
 ],
 "metadata": {
  "kernelspec": {
   "display_name": "Python 3",
   "language": "python",
   "name": "python3"
  },
  "language_info": {
   "codemirror_mode": {
    "name": "ipython",
    "version": 3
   },
   "file_extension": ".py",
   "mimetype": "text/x-python",
   "name": "python",
   "nbconvert_exporter": "python",
   "pygments_lexer": "ipython3",
   "version": "3.6.5"
  }
 },
 "nbformat": 4,
 "nbformat_minor": 2
}

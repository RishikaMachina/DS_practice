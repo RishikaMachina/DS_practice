{
 "cells": [
  {
   "cell_type": "code",
   "execution_count": 1,
   "metadata": {},
   "outputs": [
    {
     "name": "stdout",
     "output_type": "stream",
     "text": [
      "5\n",
      "4\n",
      "3\n",
      "2\n",
      "1\n"
     ]
    }
   ],
   "source": [
    "class Node(object):\n",
    "    \n",
    "    def __init__(self,value):\n",
    "        \n",
    "        self.value = value\n",
    "        self.nextNode = None\n",
    "        \n",
    "        \n",
    "def last_nth_node(n,head):\n",
    "    p = head\n",
    "    q = head.nextNode\n",
    "    for i in range(0,n-1):\n",
    "        q = q.nextNode\n",
    "#         print(\"q value incrementing\")\n",
    "    while p is not None:\n",
    "        if q is None:\n",
    "            return p.value\n",
    "        else:\n",
    "            p = p.nextNode\n",
    "            q = q.nextNode\n",
    "    pass\n",
    "\n",
    "a = Node(1)\n",
    "b= Node(2)\n",
    "c = Node(3)\n",
    "d = Node(4)\n",
    "e= Node(5)\n",
    "\n",
    "a.nextNode = b\n",
    "b.nextNode = c\n",
    "c.nextNode = d\n",
    "d.nextNode = e\n",
    "e.nextNode = None\n",
    "\n",
    "print(last_nth_node(1,a))\n",
    "print(last_nth_node(2,a))\n",
    "print(last_nth_node(3,a))\n",
    "print(last_nth_node(4,a))\n",
    "print(last_nth_node(5,a))"
   ]
  }
 ],
 "metadata": {
  "kernelspec": {
   "display_name": "Python 3",
   "language": "python",
   "name": "python3"
  },
  "language_info": {
   "codemirror_mode": {
    "name": "ipython",
    "version": 3
   },
   "file_extension": ".py",
   "mimetype": "text/x-python",
   "name": "python",
   "nbconvert_exporter": "python",
   "pygments_lexer": "ipython3",
   "version": "3.6.5"
  }
 },
 "nbformat": 4,
 "nbformat_minor": 2
}
